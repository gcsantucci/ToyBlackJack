{
 "cells": [
  {
   "cell_type": "markdown",
   "metadata": {},
   "source": [
    "# Toy BlackJack\n",
    "\n",
    "Simulation of a BlackJack Toy Model. It follows the same idea as standard BlackJack,\n",
    "but with simplified rules.    \n",
    "There is no splitting of pairs or doubling up bets, thus, the only\n",
    "allowed plays are Stand or Hit.\n",
    "\n",
    "## Simulated Players:\n",
    "\n",
    "The class \"Players\" provide 3 different kinds of player plus the dealer, each of them following a different strategy.\n",
    "\n",
    "### Basic:\n",
    "The Basic player always makes the same bet and follows a simple strategy\n",
    "that takes into account the current value of the hand and the dealer's card that is public.    \n",
    "More details can be found here:      \n",
    "https://bicyclecards.com/how-to-play/blackjack/\n",
    "\n",
    "### Simplest Player:\n",
    "There is also a Bad player simulation that will always make the same bet and\n",
    "always follow the pattern:\n",
    "1. If hand total >= 17: Stand\n",
    "2. Else: Hit\n",
    "\n",
    "### Chart Player:\n",
    "And finally a player that follows the chart here:\n",
    "\n",
    "https://www.blackjackapprenticeship.com/blackjack-strategy-charts/\n",
    "\n",
    "### Dealer:\n",
    "The dealer will always follow the steps:\n",
    "\n",
    "1. If hand total > 17: Stand\n",
    "2. If hand total < 17: Hit\n",
    "3. If hand total = soft 17 (with an Ace): Hit\n",
    "4. If hand total = hard 17 (without and Ace): Stand\n",
    "\n",
    "## Payouts:\n",
    "The payout is as follows:\n",
    "\n",
    "1. If players have a BlackJack and the Dealer does not,\n",
    "the players are awarded 1.5x their initial bets.\n",
    "2. If the players beat the dealer without a BlackJack, they receive 1x their initial bets.\n",
    "3. If the players bust (>21) or if the dealer wins, they lose their initial bets.\n",
    "3. In case of a draw (BlackJack draw also), the initial bet is returned to each player."
   ]
  },
  {
   "cell_type": "markdown",
   "metadata": {},
   "source": [
    "# Initial Analysis:"
   ]
  },
  {
   "cell_type": "markdown",
   "metadata": {},
   "source": [
    "Let's start looking at a simple comparison between all 3 players's performances:"
   ]
  },
  {
   "cell_type": "code",
   "execution_count": 1,
   "metadata": {},
   "outputs": [],
   "source": [
    "import numpy as np\n",
    "import matplotlib.pyplot as plt\n",
    "import sys\n",
    "sys.path.append('Modules')\n",
    "\n",
    "import Rounds\n",
    "import Decks\n",
    "import Players"
   ]
  },
  {
   "cell_type": "code",
   "execution_count": 42,
   "metadata": {},
   "outputs": [],
   "source": [
    "def pipeline(name, game, Nrounds=1):\n",
    "    wins = [0] * len(game.players)\n",
    "    profits = [[player.stack] for player in game.players]\n",
    "    for _ in range(Nrounds):\n",
    "        if len(game.GetDeck()) < ncards_min:\n",
    "            deck = Decks.MakeDecks(ndecks)\n",
    "            game.SetDeck(deck)\n",
    "            for player in game.players:\n",
    "                player.ResetCount()\n",
    "        #nplayers = 1  # + np.random.randint(Nplayers)\n",
    "        nplayers = len(game.players)\n",
    "        game.SetNPlayers(nplayers=nplayers)\n",
    "        game.MakeBets()\n",
    "        game.SetUp()\n",
    "        game.TakeActions()\n",
    "        game.PayOuts()\n",
    "        deck = game.GetDeck()\n",
    "        for i, player in enumerate(game.players):\n",
    "            profits[i].append(player.stack)\n",
    "            if player.Win(game.dealer) > 0: wins[i] += 1\n",
    "    return wins, profits"
   ]
  },
  {
   "cell_type": "markdown",
   "metadata": {},
   "source": [
    "For now, let us simply use 1 deck, since we have not implemented card counting yet,\n",
    "so it does not make any difference.\n",
    "\n",
    "Also, let's play with one player at a time for convenience, but again, it does not make\n",
    "a difference since no card counting is implemented yet."
   ]
  },
  {
   "cell_type": "code",
   "execution_count": 43,
   "metadata": {},
   "outputs": [],
   "source": [
    "ndecks = 1\n",
    "ncards_min = 20\n",
    "Nplayers = 3  # 4\n",
    "stack = 10_000\n",
    "stacks = [stack] * Nplayers\n",
    "count = 0\n",
    "counts = [count] * Nplayers\n",
    "deck = Decks.MakeDecks(ndecks)\n",
    "\n",
    "Nrounds = 10_000"
   ]
  },
  {
   "cell_type": "code",
   "execution_count": 44,
   "metadata": {},
   "outputs": [],
   "source": [
    "players = [Players.BadPlayer(stack=stack, count=count),\n",
    "           Players.Player(stack=stack, count=count),\n",
    "           Players.ChartPlayer(stack=stack, count=count)]\n",
    "\n",
    "game = Rounds.Round(deck, Nplayers=Nplayers, players=players, stacks=stacks, counts=counts)\n",
    "wins, profits = pipeline('3 Players', game, Nrounds=Nrounds)"
   ]
  },
  {
   "cell_type": "code",
   "execution_count": 63,
   "metadata": {},
   "outputs": [
    {
     "name": "stdout",
     "output_type": "stream",
     "text": [
      "Bad: 41.45%\n",
      "Basic: 43.46%\n",
      "Chart: 43.49%\n"
     ]
    }
   ],
   "source": [
    "for name, win in zip(['Bad', 'Basic', 'Chart'], wins):\n",
    "    win /= Nrounds\n",
    "    print('{}: {:.2f}%'.format(name, 100.*win))"
   ]
  },
  {
   "cell_type": "code",
   "execution_count": 64,
   "metadata": {},
   "outputs": [
    {
     "data": {
      "image/png": "[encoded data removed]",
      "text/plain": [
       "<Figure size 432x288 with 1 Axes>"
      ]
     },
     "metadata": {
      "needs_background": "light"
     },
     "output_type": "display_data"
    }
   ],
   "source": [
    "plt.plot(np.array(profits[0]) - stack, 'g-', label='Bad Player')\n",
    "plt.plot(np.array(profits[1]) - stack, 'r-', label='Basic Player')\n",
    "plt.plot(np.array(profits[2]) - stack, 'b-', label='Chart Player')\n",
    "plt.legend()\n",
    "plt.show()"
   ]
  },
  {
   "cell_type": "code",
   "execution_count": null,
   "metadata": {},
   "outputs": [],
   "source": []
  }
 ],
 "metadata": {
  "kernelspec": {
   "display_name": "Python 3",
   "language": "python",
   "name": "python3"
  },
  "language_info": {
   "codemirror_mode": {
    "name": "ipython",
    "version": 3
   },
   "file_extension": ".py",
   "mimetype": "text/x-python",
   "name": "python",
   "nbconvert_exporter": "python",
   "pygments_lexer": "ipython3",
   "version": "3.7.3"
  }
 },
 "nbformat": 4,
 "nbformat_minor": 2
}
