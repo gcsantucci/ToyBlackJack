{
 "cells": [
  {
   "cell_type": "markdown",
   "metadata": {},
   "source": [
    "Simulation of a BlackJack Toy Model. It follows the same idea as standard BlackJack,\n",
    "but with simplified rules.    \n",
    "There is no splitting of pairs or doubling up bets, thus, the only\n",
    "allowed plays are Stand or Hit.\n",
    "\n",
    "## Simulated Players:\n",
    "\n",
    "The class \"Players\" provide 3 different kinds of player plus the dealer, each of them following a different strategy.\n",
    "\n",
    "### Basic:\n",
    "The Basic player always makes the same bet and follows a simple strategy\n",
    "that takes into account the current value of the hand and the dealer's card that is public.    \n",
    "More details can be found here:    \n",
    "https://bicyclecards.com/how-to-play/blackjack/\n",
    "\n",
    "### Simplest Player:\n",
    "There is also a Bad player simulation that will always make the same bet and\n",
    "always follow the pattern:\n",
    "1. If hand total >= 17: Stand\n",
    "2. Else: Hit\n",
    "\n",
    "### Chart Player:\n",
    "And finally a player that follows the chart here:\n",
    "\n",
    "https://www.blackjackapprenticeship.com/blackjack-strategy-charts/\n",
    "\n",
    "### Dealer:\n",
    "The dealer will always follow the steps:\n",
    "\n",
    "1. If hand total > 17: Stand\n",
    "2. If hand total < 17: Hit\n",
    "3. If hand total = soft 17 (with an Ace): Hit\n",
    "4. If hand total = hard 17 (without and Ace): Stand\n",
    "\n",
    "## Payouts:\n",
    "The payout is as follows:\n",
    "\n",
    "1. If players have a BlackJack and the Dealer does not,\n",
    "the players are awarded 1.5x their initial bets.\n",
    "2. If the players beat the dealer without a BlackJack, they receive 1x their initial bets.\n",
    "3. If the players bust (>21) or if the dealer wins, they lose their initial bets.\n",
    "3. In case of a draw (BlackJack draw also), the initial bet is returned to each player."
   ]
  },
  {
   "cell_type": "code",
   "execution_count": 1,
   "metadata": {},
   "outputs": [],
   "source": [
    "import numpy as np\n",
    "import matplotlib.pyplot as plt\n",
    "import sys\n",
    "sys.path.append('Modules')\n",
    "\n",
    "import Rounds\n",
    "import Decks\n",
    "import Players"
   ]
  },
  {
   "cell_type": "code",
   "execution_count": 2,
   "metadata": {},
   "outputs": [],
   "source": [
    "ndecks = 1\n",
    "ncards_min = 20\n",
    "Nplayers = 1  # 4\n",
    "stacks = [10_000] * Nplayers\n",
    "counts = [0] * Nplayers"
   ]
  },
  {
   "cell_type": "code",
   "execution_count": 8,
   "metadata": {},
   "outputs": [
    {
     "name": "stdout",
     "output_type": "stream",
     "text": [
      "Wins = 43261 / 100000 = 43.261%\n"
     ]
    },
    {
     "data": {
      "image/png": "[encoded data removed]",
      "text/plain": [
       "<Figure size 432x288 with 1 Axes>"
      ]
     },
     "metadata": {
      "needs_background": "light"
     },
     "output_type": "display_data"
    }
   ],
   "source": [
    "Nrounds = 100_000\n",
    "\n",
    "deck = Decks.MakeDecks(ndecks)\n",
    "game = Rounds.Round(deck, Nplayers=Nplayers, stacks=stacks, counts=counts)\n",
    "\n",
    "wins = 0\n",
    "profit = [game.players[0].stack]\n",
    "for i in range(Nrounds):\n",
    "    if len(deck) < ncards_min:\n",
    "        deck = Decks.MakeDecks(ndecks)\n",
    "        game.SetDeck(deck)\n",
    "        for player in game.players:\n",
    "            player.ResetCount()\n",
    "    nplayers = 1  # + np.random.randint(Nplayers)\n",
    "    game.SetNPlayers(nplayers=nplayers)\n",
    "    game.MakeBets()\n",
    "    game.SetUp()\n",
    "    game.TakeActions()\n",
    "    game.PayOuts()\n",
    "    deck = game.GetDeck()\n",
    "    profit.append(game.players[0].stack)\n",
    "    if game.players[0].Win(game.dealer) > 0: wins += 1\n",
    "        \n",
    "print(f'Wins = {wins} / {Nrounds} = {100.*wins/Nrounds}%')\n",
    "profit = np.array(profit)\n",
    "plt.plot(profit, 'b-')\n",
    "plt.show()"
   ]
  },
  {
   "cell_type": "code",
   "execution_count": 4,
   "metadata": {},
   "outputs": [
    {
     "name": "stdout",
     "output_type": "stream",
     "text": [
      "Bad\n",
      "Wins = 4036 / 10000 = 40.36%\n"
     ]
    },
    {
     "data": {
      "image/png": "[encoded data removed]",
      "text/plain": [
       "<Figure size 432x288 with 1 Axes>"
      ]
     },
     "metadata": {
      "needs_background": "light"
     },
     "output_type": "display_data"
    }
   ],
   "source": [
    "players = [Players.BadPlayer(stack=10_000, count=0)]\n",
    "print(players[0].name)\n",
    "Nrounds = 10_000\n",
    "\n",
    "deck = Decks.MakeDecks(ndecks)\n",
    "game = Rounds.Round(deck, Nplayers=Nplayers, players=players, stacks=stacks, counts=counts)\n",
    "\n",
    "wins = 0\n",
    "profit = [game.players[0].stack]\n",
    "for i in range(Nrounds):\n",
    "    if len(deck) < ncards_min:\n",
    "        deck = Decks.MakeDecks(ndecks)\n",
    "        game.SetDeck(deck)\n",
    "        for player in game.players:\n",
    "            player.ResetCount()\n",
    "    nplayers = 1  # + np.random.randint(Nplayers)\n",
    "    game.SetNPlayers(nplayers=nplayers)\n",
    "    game.MakeBets()\n",
    "    game.SetUp()\n",
    "    game.TakeActions()\n",
    "    game.PayOuts()\n",
    "    deck = game.GetDeck()\n",
    "    profit.append(game.players[0].stack)\n",
    "    if game.players[0].Win(game.dealer) > 0: wins += 1\n",
    "        \n",
    "print(f'Wins = {wins} / {Nrounds} = {100.*wins/Nrounds}%')\n",
    "profit = np.array(profit)\n",
    "plt.plot(profit, 'b-')\n",
    "plt.show()"
   ]
  },
  {
   "cell_type": "code",
   "execution_count": 7,
   "metadata": {},
   "outputs": [
    {
     "name": "stdout",
     "output_type": "stream",
     "text": [
      "Chart\n",
      "Wins = 43537 / 100000 = 43.537%\n"
     ]
    },
    {
     "data": {
      "image/png": "[encoded data removed]",
      "text/plain": [
       "<Figure size 432x288 with 1 Axes>"
      ]
     },
     "metadata": {
      "needs_background": "light"
     },
     "output_type": "display_data"
    }
   ],
   "source": [
    "players = [Players.ChartPlayer(stack=10_000, count=0)]\n",
    "print(players[0].name)\n",
    "Nrounds = 100_000\n",
    "\n",
    "deck = Decks.MakeDecks(ndecks)\n",
    "game = Rounds.Round(deck, Nplayers=Nplayers, players=players, stacks=stacks, counts=counts)\n",
    "\n",
    "wins = 0\n",
    "profit = [game.players[0].stack]\n",
    "for i in range(Nrounds):\n",
    "    if len(deck) < ncards_min:\n",
    "        deck = Decks.MakeDecks(ndecks)\n",
    "        game.SetDeck(deck)\n",
    "        for player in game.players:\n",
    "            player.ResetCount()\n",
    "    nplayers = 1  # + np.random.randint(Nplayers)\n",
    "    game.SetNPlayers(nplayers=nplayers)\n",
    "    game.MakeBets()\n",
    "    game.SetUp()\n",
    "    game.TakeActions()\n",
    "    game.PayOuts()\n",
    "    deck = game.GetDeck()\n",
    "    profit.append(game.players[0].stack)\n",
    "    if game.players[0].Win(game.dealer) > 0: wins += 1\n",
    "        \n",
    "print(f'Wins = {wins} / {Nrounds} = {100.*wins/Nrounds}%')\n",
    "profit = np.array(profit)\n",
    "plt.plot(profit, 'b-')\n",
    "plt.show()"
   ]
  },
  {
   "cell_type": "code",
   "execution_count": 18,
   "metadata": {},
   "outputs": [
    {
     "name": "stdout",
     "output_type": "stream",
     "text": [
      "Chart\n",
      "Wins = 4322 / 10000 = 43.22%\n"
     ]
    },
    {
     "data": {
      "image/png": "[encoded data removed]",
      "text/plain": [
       "<Figure size 432x288 with 1 Axes>"
      ]
     },
     "metadata": {
      "needs_background": "light"
     },
     "output_type": "display_data"
    }
   ],
   "source": [
    "stack = 10_000\n",
    "players = [Players.ChartPlayer(stack=stack, count=0)]\n",
    "print(players[0].name)\n",
    "Nrounds = 10_000\n",
    "\n",
    "deck = Decks.MakeDecks(ndecks)\n",
    "game = Rounds.Round(deck, Nplayers=Nplayers, players=players, stacks=stacks, counts=counts)\n",
    "\n",
    "wins = 0\n",
    "profit = [game.players[0].stack]\n",
    "for i in range(Nrounds):\n",
    "    if len(deck) < ncards_min:\n",
    "        deck = Decks.MakeDecks(ndecks)\n",
    "        game.SetDeck(deck)\n",
    "        for player in game.players:\n",
    "            player.ResetCount()\n",
    "    nplayers = 1  # + np.random.randint(Nplayers)\n",
    "    game.SetNPlayers(nplayers=nplayers)\n",
    "    game.MakeBets()\n",
    "    game.SetUp()\n",
    "    game.TakeActions()\n",
    "    game.PayOuts()\n",
    "    deck = game.GetDeck()\n",
    "    profit.append(game.players[0].stack)\n",
    "    if game.players[0].Win(game.dealer) > 0: wins += 1\n",
    "        \n",
    "print(f'Wins = {wins} / {Nrounds} = {100.*wins/Nrounds}%')\n",
    "profit = np.array(profit) - stack\n",
    "plt.plot(profit, 'b-')\n",
    "plt.show()"
   ]
  },
  {
   "cell_type": "code",
   "execution_count": null,
   "metadata": {},
   "outputs": [],
   "source": []
  },
  {
   "cell_type": "code",
   "execution_count": null,
   "metadata": {},
   "outputs": [],
   "source": []
  }
 ],
 "metadata": {
  "kernelspec": {
   "display_name": "Python 3",
   "language": "python",
   "name": "python3"
  },
  "language_info": {
   "codemirror_mode": {
    "name": "ipython",
    "version": 3
   },
   "file_extension": ".py",
   "mimetype": "text/x-python",
   "name": "python",
   "nbconvert_exporter": "python",
   "pygments_lexer": "ipython3",
   "version": "3.7.3"
  }
 },
 "nbformat": 4,
 "nbformat_minor": 2
}
